{
  "nbformat": 4,
  "nbformat_minor": 0,
  "metadata": {
    "kernelspec": {
      "language": "python",
      "display_name": "Python 3",
      "name": "python3"
    },
    "language_info": {
      "pygments_lexer": "ipython3",
      "nbconvert_exporter": "python",
      "version": "3.6.4",
      "file_extension": ".py",
      "codemirror_mode": {
        "name": "ipython",
        "version": 3
      },
      "name": "python",
      "mimetype": "text/x-python"
    },
    "colab": {
      "name": "main_git.ipynb",
      "provenance": [],
      "collapsed_sections": [],
      "machine_shape": "hm"
    },
    "widgets": {
      "application/vnd.jupyter.widget-state+json": {
        "1ac945c7d496434f9b320c18083e556e": {
          "model_module": "@jupyter-widgets/controls",
          "model_name": "VBoxModel",
          "state": {
            "_view_name": "VBoxView",
            "_dom_classes": [],
            "_model_name": "VBoxModel",
            "_view_module": "@jupyter-widgets/controls",
            "_model_module_version": "1.5.0",
            "_view_count": null,
            "_view_module_version": "1.5.0",
            "box_style": "",
            "layout": "IPY_MODEL_5e56942d74ae48ab80cd8bbdfe4f8763",
            "_model_module": "@jupyter-widgets/controls",
            "children": [
              "IPY_MODEL_f478808a120b4bdbbf513c3432d815dd",
              "IPY_MODEL_d188b1a893cb46848f9f516737daad2f",
              "IPY_MODEL_4fa2f12cf1eb409f9e214fe306ece3e4"
            ]
          }
        },
        "5e56942d74ae48ab80cd8bbdfe4f8763": {
          "model_module": "@jupyter-widgets/base",
          "model_name": "LayoutModel",
          "state": {
            "_view_name": "LayoutView",
            "grid_template_rows": null,
            "right": null,
            "justify_content": null,
            "_view_module": "@jupyter-widgets/base",
            "overflow": null,
            "_model_module_version": "1.2.0",
            "_view_count": null,
            "flex_flow": null,
            "width": null,
            "min_width": null,
            "border": null,
            "align_items": "center",
            "bottom": null,
            "_model_module": "@jupyter-widgets/base",
            "top": null,
            "grid_column": null,
            "overflow_y": null,
            "overflow_x": null,
            "grid_auto_flow": null,
            "grid_area": null,
            "grid_template_columns": null,
            "flex": null,
            "_model_name": "LayoutModel",
            "justify_items": null,
            "grid_row": null,
            "max_height": null,
            "align_content": null,
            "visibility": null,
            "align_self": null,
            "height": null,
            "min_height": null,
            "padding": null,
            "grid_auto_rows": null,
            "grid_gap": null,
            "max_width": null,
            "order": null,
            "_view_module_version": "1.2.0",
            "grid_template_areas": null,
            "object_position": null,
            "object_fit": null,
            "grid_auto_columns": null,
            "margin": null,
            "display": null,
            "left": null
          }
        },
        "f478808a120b4bdbbf513c3432d815dd": {
          "model_module": "@jupyter-widgets/controls",
          "model_name": "HBoxModel",
          "state": {
            "_view_name": "HBoxView",
            "_dom_classes": [],
            "_model_name": "HBoxModel",
            "_view_module": "@jupyter-widgets/controls",
            "_model_module_version": "1.5.0",
            "_view_count": null,
            "_view_module_version": "1.5.0",
            "box_style": "",
            "layout": "IPY_MODEL_b618746ec06841fe84773d9d478b0ad4",
            "_model_module": "@jupyter-widgets/controls",
            "children": [
              "IPY_MODEL_18926a3be5424fb789e40c748b91715d",
              "IPY_MODEL_539bd339909844f2995376c91b7c8c14",
              "IPY_MODEL_b488b61d56a144d199b48fadc5d3cfa0"
            ]
          }
        },
        "d188b1a893cb46848f9f516737daad2f": {
          "model_module": "@jupyter-widgets/controls",
          "model_name": "TextareaModel",
          "state": {
            "_view_name": "TextareaView",
            "style": "IPY_MODEL_f2c47bd9d6bb49c9af93c7040043345b",
            "rows": null,
            "_dom_classes": [],
            "description": "",
            "_model_name": "TextareaModel",
            "placeholder": "Type something",
            "_view_module": "@jupyter-widgets/controls",
            "_model_module_version": "1.5.0",
            "value": "",
            "_view_count": null,
            "disabled": false,
            "_view_module_version": "1.5.0",
            "continuous_update": true,
            "description_tooltip": null,
            "_model_module": "@jupyter-widgets/controls",
            "layout": "IPY_MODEL_d2b5373bfc5b4dccbaff93d36943b119"
          }
        },
        "4fa2f12cf1eb409f9e214fe306ece3e4": {
          "model_module": "@jupyter-widgets/controls",
          "model_name": "ButtonModel",
          "state": {
            "_view_name": "ButtonView",
            "style": "IPY_MODEL_6b0b94a46406408cbf58c80ed3ec8ba6",
            "_dom_classes": [],
            "description": "Search",
            "_model_name": "ButtonModel",
            "button_style": "",
            "_view_module": "@jupyter-widgets/controls",
            "_model_module_version": "1.5.0",
            "tooltip": "",
            "_view_count": null,
            "disabled": false,
            "_view_module_version": "1.5.0",
            "layout": "IPY_MODEL_459e0eba97604a8bbdf77469761df939",
            "_model_module": "@jupyter-widgets/controls",
            "icon": ""
          }
        },
        "b618746ec06841fe84773d9d478b0ad4": {
          "model_module": "@jupyter-widgets/base",
          "model_name": "LayoutModel",
          "state": {
            "_view_name": "LayoutView",
            "grid_template_rows": null,
            "right": null,
            "justify_content": "space-around",
            "_view_module": "@jupyter-widgets/base",
            "overflow": null,
            "_model_module_version": "1.2.0",
            "_view_count": null,
            "flex_flow": null,
            "width": "90%",
            "min_width": null,
            "border": null,
            "align_items": null,
            "bottom": null,
            "_model_module": "@jupyter-widgets/base",
            "top": null,
            "grid_column": null,
            "overflow_y": null,
            "overflow_x": null,
            "grid_auto_flow": null,
            "grid_area": null,
            "grid_template_columns": null,
            "flex": null,
            "_model_name": "LayoutModel",
            "justify_items": null,
            "grid_row": null,
            "max_height": null,
            "align_content": null,
            "visibility": null,
            "align_self": null,
            "height": null,
            "min_height": null,
            "padding": null,
            "grid_auto_rows": null,
            "grid_gap": null,
            "max_width": null,
            "order": null,
            "_view_module_version": "1.2.0",
            "grid_template_areas": null,
            "object_position": null,
            "object_fit": null,
            "grid_auto_columns": null,
            "margin": null,
            "display": null,
            "left": null
          }
        },
        "18926a3be5424fb789e40c748b91715d": {
          "model_module": "@jupyter-widgets/controls",
          "model_name": "IntSliderModel",
          "state": {
            "_view_name": "IntSliderView",
            "style": "IPY_MODEL_5a282bc7a4ec4a649f7ae75e29d4349e",
            "_dom_classes": [],
            "description": "k",
            "step": 1,
            "_model_name": "IntSliderModel",
            "orientation": "horizontal",
            "max": 50,
            "_view_module": "@jupyter-widgets/controls",
            "_model_module_version": "1.5.0",
            "value": 6,
            "_view_count": null,
            "disabled": false,
            "_view_module_version": "1.5.0",
            "min": 1,
            "continuous_update": true,
            "readout_format": "d",
            "description_tooltip": null,
            "readout": true,
            "_model_module": "@jupyter-widgets/controls",
            "layout": "IPY_MODEL_91e8adc0f346405499a28826616c08e2"
          }
        },
        "539bd339909844f2995376c91b7c8c14": {
          "model_module": "@jupyter-widgets/controls",
          "model_name": "IntRangeSliderModel",
          "state": {
            "_view_name": "IntRangeSliderView",
            "style": "IPY_MODEL_57985d30066f49dc8b3ec94bb6804871",
            "_dom_classes": [],
            "description": "Year Range",
            "step": 1,
            "_model_name": "IntRangeSliderModel",
            "orientation": "horizontal",
            "max": 2020,
            "_view_module": "@jupyter-widgets/controls",
            "_model_module_version": "1.5.0",
            "value": [
              2010,
              2020
            ],
            "_view_count": null,
            "disabled": false,
            "_view_module_version": "1.5.0",
            "min": 1950,
            "continuous_update": false,
            "readout_format": "d",
            "description_tooltip": null,
            "readout": true,
            "_model_module": "@jupyter-widgets/controls",
            "layout": "IPY_MODEL_5764400f70ac47809b9b98d8db8dd0c2"
          }
        },
        "b488b61d56a144d199b48fadc5d3cfa0": {
          "model_module": "@jupyter-widgets/controls",
          "model_name": "CheckboxModel",
          "state": {
            "_view_name": "CheckboxView",
            "style": "IPY_MODEL_f224273a6e684bd4a2771e4dfc4667ec",
            "_dom_classes": [],
            "description": "Only COVID-19-Papers",
            "_model_name": "CheckboxModel",
            "_view_module": "@jupyter-widgets/controls",
            "_model_module_version": "1.5.0",
            "value": true,
            "_view_count": null,
            "disabled": false,
            "_view_module_version": "1.5.0",
            "indent": false,
            "description_tooltip": null,
            "_model_module": "@jupyter-widgets/controls",
            "layout": "IPY_MODEL_540294ba05ea4e80b8a68ebb1303fd77"
          }
        },
        "f2c47bd9d6bb49c9af93c7040043345b": {
          "model_module": "@jupyter-widgets/controls",
          "model_name": "DescriptionStyleModel",
          "state": {
            "_view_name": "StyleView",
            "_model_name": "DescriptionStyleModel",
            "description_width": "",
            "_view_module": "@jupyter-widgets/base",
            "_model_module_version": "1.5.0",
            "_view_count": null,
            "_view_module_version": "1.2.0",
            "_model_module": "@jupyter-widgets/controls"
          }
        },
        "d2b5373bfc5b4dccbaff93d36943b119": {
          "model_module": "@jupyter-widgets/base",
          "model_name": "LayoutModel",
          "state": {
            "_view_name": "LayoutView",
            "grid_template_rows": null,
            "right": null,
            "justify_content": null,
            "_view_module": "@jupyter-widgets/base",
            "overflow": null,
            "_model_module_version": "1.2.0",
            "_view_count": null,
            "flex_flow": null,
            "width": "90%",
            "min_width": null,
            "border": null,
            "align_items": null,
            "bottom": null,
            "_model_module": "@jupyter-widgets/base",
            "top": null,
            "grid_column": null,
            "overflow_y": null,
            "overflow_x": null,
            "grid_auto_flow": null,
            "grid_area": null,
            "grid_template_columns": null,
            "flex": null,
            "_model_name": "LayoutModel",
            "justify_items": null,
            "grid_row": null,
            "max_height": null,
            "align_content": null,
            "visibility": null,
            "align_self": null,
            "height": "200px",
            "min_height": null,
            "padding": null,
            "grid_auto_rows": null,
            "grid_gap": null,
            "max_width": null,
            "order": null,
            "_view_module_version": "1.2.0",
            "grid_template_areas": null,
            "object_position": null,
            "object_fit": null,
            "grid_auto_columns": null,
            "margin": null,
            "display": null,
            "left": null
          }
        },
        "6b0b94a46406408cbf58c80ed3ec8ba6": {
          "model_module": "@jupyter-widgets/controls",
          "model_name": "ButtonStyleModel",
          "state": {
            "_view_name": "StyleView",
            "_model_name": "ButtonStyleModel",
            "_view_module": "@jupyter-widgets/base",
            "_model_module_version": "1.5.0",
            "_view_count": null,
            "button_color": null,
            "font_weight": "",
            "_view_module_version": "1.2.0",
            "_model_module": "@jupyter-widgets/controls"
          }
        },
        "459e0eba97604a8bbdf77469761df939": {
          "model_module": "@jupyter-widgets/base",
          "model_name": "LayoutModel",
          "state": {
            "_view_name": "LayoutView",
            "grid_template_rows": null,
            "right": null,
            "justify_content": null,
            "_view_module": "@jupyter-widgets/base",
            "overflow": null,
            "_model_module_version": "1.2.0",
            "_view_count": null,
            "flex_flow": null,
            "width": null,
            "min_width": null,
            "border": null,
            "align_items": null,
            "bottom": null,
            "_model_module": "@jupyter-widgets/base",
            "top": null,
            "grid_column": null,
            "overflow_y": null,
            "overflow_x": null,
            "grid_auto_flow": null,
            "grid_area": null,
            "grid_template_columns": null,
            "flex": null,
            "_model_name": "LayoutModel",
            "justify_items": null,
            "grid_row": null,
            "max_height": null,
            "align_content": null,
            "visibility": null,
            "align_self": null,
            "height": null,
            "min_height": null,
            "padding": null,
            "grid_auto_rows": null,
            "grid_gap": null,
            "max_width": null,
            "order": null,
            "_view_module_version": "1.2.0",
            "grid_template_areas": null,
            "object_position": null,
            "object_fit": null,
            "grid_auto_columns": null,
            "margin": null,
            "display": null,
            "left": null
          }
        },
        "5a282bc7a4ec4a649f7ae75e29d4349e": {
          "model_module": "@jupyter-widgets/controls",
          "model_name": "SliderStyleModel",
          "state": {
            "_view_name": "StyleView",
            "handle_color": null,
            "_model_name": "SliderStyleModel",
            "description_width": "",
            "_view_module": "@jupyter-widgets/base",
            "_model_module_version": "1.5.0",
            "_view_count": null,
            "_view_module_version": "1.2.0",
            "_model_module": "@jupyter-widgets/controls"
          }
        },
        "91e8adc0f346405499a28826616c08e2": {
          "model_module": "@jupyter-widgets/base",
          "model_name": "LayoutModel",
          "state": {
            "_view_name": "LayoutView",
            "grid_template_rows": null,
            "right": null,
            "justify_content": null,
            "_view_module": "@jupyter-widgets/base",
            "overflow": null,
            "_model_module_version": "1.2.0",
            "_view_count": null,
            "flex_flow": null,
            "width": "25%",
            "min_width": null,
            "border": null,
            "align_items": null,
            "bottom": null,
            "_model_module": "@jupyter-widgets/base",
            "top": null,
            "grid_column": null,
            "overflow_y": null,
            "overflow_x": null,
            "grid_auto_flow": null,
            "grid_area": null,
            "grid_template_columns": null,
            "flex": null,
            "_model_name": "LayoutModel",
            "justify_items": null,
            "grid_row": null,
            "max_height": null,
            "align_content": null,
            "visibility": null,
            "align_self": null,
            "height": null,
            "min_height": null,
            "padding": null,
            "grid_auto_rows": null,
            "grid_gap": null,
            "max_width": null,
            "order": null,
            "_view_module_version": "1.2.0",
            "grid_template_areas": null,
            "object_position": null,
            "object_fit": null,
            "grid_auto_columns": null,
            "margin": null,
            "display": null,
            "left": null
          }
        },
        "57985d30066f49dc8b3ec94bb6804871": {
          "model_module": "@jupyter-widgets/controls",
          "model_name": "SliderStyleModel",
          "state": {
            "_view_name": "StyleView",
            "handle_color": null,
            "_model_name": "SliderStyleModel",
            "description_width": "",
            "_view_module": "@jupyter-widgets/base",
            "_model_module_version": "1.5.0",
            "_view_count": null,
            "_view_module_version": "1.2.0",
            "_model_module": "@jupyter-widgets/controls"
          }
        },
        "5764400f70ac47809b9b98d8db8dd0c2": {
          "model_module": "@jupyter-widgets/base",
          "model_name": "LayoutModel",
          "state": {
            "_view_name": "LayoutView",
            "grid_template_rows": null,
            "right": null,
            "justify_content": null,
            "_view_module": "@jupyter-widgets/base",
            "overflow": null,
            "_model_module_version": "1.2.0",
            "_view_count": null,
            "flex_flow": null,
            "width": "40%",
            "min_width": null,
            "border": null,
            "align_items": null,
            "bottom": null,
            "_model_module": "@jupyter-widgets/base",
            "top": null,
            "grid_column": null,
            "overflow_y": null,
            "overflow_x": null,
            "grid_auto_flow": null,
            "grid_area": null,
            "grid_template_columns": null,
            "flex": null,
            "_model_name": "LayoutModel",
            "justify_items": null,
            "grid_row": null,
            "max_height": null,
            "align_content": null,
            "visibility": null,
            "align_self": null,
            "height": null,
            "min_height": null,
            "padding": null,
            "grid_auto_rows": null,
            "grid_gap": null,
            "max_width": null,
            "order": null,
            "_view_module_version": "1.2.0",
            "grid_template_areas": null,
            "object_position": null,
            "object_fit": null,
            "grid_auto_columns": null,
            "margin": null,
            "display": null,
            "left": null
          }
        },
        "f224273a6e684bd4a2771e4dfc4667ec": {
          "model_module": "@jupyter-widgets/controls",
          "model_name": "DescriptionStyleModel",
          "state": {
            "_view_name": "StyleView",
            "_model_name": "DescriptionStyleModel",
            "description_width": "",
            "_view_module": "@jupyter-widgets/base",
            "_model_module_version": "1.5.0",
            "_view_count": null,
            "_view_module_version": "1.2.0",
            "_model_module": "@jupyter-widgets/controls"
          }
        },
        "540294ba05ea4e80b8a68ebb1303fd77": {
          "model_module": "@jupyter-widgets/base",
          "model_name": "LayoutModel",
          "state": {
            "_view_name": "LayoutView",
            "grid_template_rows": null,
            "right": null,
            "justify_content": null,
            "_view_module": "@jupyter-widgets/base",
            "overflow": null,
            "_model_module_version": "1.2.0",
            "_view_count": null,
            "flex_flow": null,
            "width": "25%",
            "min_width": null,
            "border": null,
            "align_items": null,
            "bottom": null,
            "_model_module": "@jupyter-widgets/base",
            "top": null,
            "grid_column": null,
            "overflow_y": null,
            "overflow_x": null,
            "grid_auto_flow": null,
            "grid_area": null,
            "grid_template_columns": null,
            "flex": null,
            "_model_name": "LayoutModel",
            "justify_items": null,
            "grid_row": null,
            "max_height": null,
            "align_content": null,
            "visibility": null,
            "align_self": null,
            "height": null,
            "min_height": null,
            "padding": null,
            "grid_auto_rows": null,
            "grid_gap": null,
            "max_width": null,
            "order": null,
            "_view_module_version": "1.2.0",
            "grid_template_areas": null,
            "object_position": null,
            "object_fit": null,
            "grid_auto_columns": null,
            "margin": null,
            "display": null,
            "left": null
          }
        }
      }
    }
  },
  "cells": [
    {
      "cell_type": "code",
      "metadata": {
        "id": "exeIiGZVjvi0",
        "colab_type": "code",
        "colab": {
          "base_uri": "https://localhost:8080/",
          "height": 120
        },
        "outputId": "2baa5b37-77cb-45d9-94c1-34123cd84cdc"
      },
      "source": [
        "##mount your drive \n",
        "from google.colab import drive\n",
        "drive.mount('/content/drive')"
      ],
      "execution_count": 2,
      "outputs": [
        {
          "output_type": "stream",
          "text": [
            "Go to this URL in a browser: https://accounts.google.com/o/oauth2/auth?client_id=947318989803-6bn6qk8qdgf4n4g3pfee6491hc0brc4i.apps.googleusercontent.com&redirect_uri=urn%3aietf%3awg%3aoauth%3a2.0%3aoob&response_type=code&scope=email%20https%3a%2f%2fwww.googleapis.com%2fauth%2fdocs.test%20https%3a%2f%2fwww.googleapis.com%2fauth%2fdrive%20https%3a%2f%2fwww.googleapis.com%2fauth%2fdrive.photos.readonly%20https%3a%2f%2fwww.googleapis.com%2fauth%2fpeopleapi.readonly\n",
            "\n",
            "Enter your authorization code:\n",
            "··········\n",
            "Mounted at /content/drive\n"
          ],
          "name": "stdout"
        }
      ]
    },
    {
      "cell_type": "markdown",
      "metadata": {
        "id": "Xq74fI6lju3O",
        "colab_type": "text"
      },
      "source": [
        "# Install/Load Packages"
      ]
    },
    {
      "cell_type": "markdown",
      "metadata": {
        "id": "yDLycSvwju3O",
        "colab_type": "text"
      },
      "source": [
        "*Internet access needs to be switched on for this to work!*"
      ]
    },
    {
      "cell_type": "code",
      "metadata": {
        "_kg_hide-input": true,
        "trusted": true,
        "_kg_hide-output": true,
        "id": "kA6wVo71ju3O",
        "colab_type": "code",
        "colab": {}
      },
      "source": [
        "from IPython.utils import io\n",
        "with io.capture_output() as captured:\n",
        "    !pip install scispacy\n",
        "    !pip install https://s3-us-west-2.amazonaws.com/ai2-s2-scispacy/releases/v0.2.4/en_core_sci_lg-0.2.4.tar.gz"
      ],
      "execution_count": 3,
      "outputs": []
    },
    {
      "cell_type": "code",
      "metadata": {
        "_kg_hide-input": true,
        "trusted": true,
        "_kg_hide-output": true,
        "id": "7fdoQIarju3R",
        "colab_type": "code",
        "colab": {
          "base_uri": "https://localhost:8080/",
          "height": 221
        },
        "outputId": "dff14ca5-0a29-4c20-9231-8f2e4920bb76"
      },
      "source": [
        "import numpy as np \n",
        "import pandas as pd\n",
        "from sklearn.feature_extraction import text\n",
        "from sklearn.feature_extraction.text import CountVectorizer, TfidfVectorizer\n",
        "from sklearn.decomposition import LatentDirichletAllocation\n",
        "import scispacy\n",
        "import spacy\n",
        "import en_core_sci_lg\n",
        "from scipy.spatial.distance import jensenshannon\n",
        "import joblib\n",
        "from IPython.display import HTML, display\n",
        "from ipywidgets import interact, Layout, HBox, VBox, Box\n",
        "import ipywidgets as widgets\n",
        "from IPython.display import clear_output\n",
        "from tqdm import tqdm\n",
        "from os.path import isfile\n",
        "import seaborn as sb\n",
        "import matplotlib.pyplot as plt\n",
        "plt.style.use(\"dark_background\")\n",
        "import nltk\n",
        "from nltk.tokenize import word_tokenize\n",
        "from nltk import pos_tag\n",
        "from nltk.corpus import stopwords\n",
        "from nltk.stem import WordNetLemmatizer\n",
        "from nltk.corpus import wordnet as wn\n",
        "from nltk.stem import PorterStemmer\n",
        "import regex as re\n",
        "from gensim.models import Word2Vec\n",
        "from gensim.models import Phrases\n",
        "from gensim.models.phrases import Phraser\n",
        "import time\n",
        "from contextlib import suppress\n",
        "from sklearn.metrics.pairwise import cosine_similarity\n",
        "from pandas import HDFStore, DataFrame, read_csv, concat\n",
        "import tables\n",
        "import warnings\n",
        "#from rank_bm25 import BM25Okapi\n",
        "import gensim\n",
        "from scipy.spatial import distance\n",
        "import matplotlib.pyplot as plt\n",
        "from sklearn.manifold import MDS\n",
        "from nltk.corpus import wordnet    \n",
        "import csv\n",
        "from datetime import datetime\n",
        "from itertools import chain\n",
        "from collections import defaultdict\n",
        "import itertools\n",
        "from itertools import chain, combinations\n",
        "import random\n",
        "from collections import Counter\n",
        "import sys\n",
        "import warnings\n",
        "lemmatizer = WordNetLemmatizer()\n",
        "porter = PorterStemmer()\n",
        "\n",
        "nltk.download('punkt')\n",
        "nltk.download('averaged_perceptron_tagger')\n",
        "nltk.download('wordnet')\n",
        "nltk.download('stopwords')\n",
        "lemmatizer = WordNetLemmatizer()\n",
        "porter = PorterStemmer()"
      ],
      "execution_count": 4,
      "outputs": [
        {
          "output_type": "stream",
          "text": [
            "/usr/local/lib/python3.6/dist-packages/statsmodels/tools/_testing.py:19: FutureWarning: pandas.util.testing is deprecated. Use the functions in the public API at pandas.testing instead.\n",
            "  import pandas.util.testing as tm\n"
          ],
          "name": "stderr"
        },
        {
          "output_type": "stream",
          "text": [
            "[nltk_data] Downloading package punkt to /root/nltk_data...\n",
            "[nltk_data]   Unzipping tokenizers/punkt.zip.\n",
            "[nltk_data] Downloading package averaged_perceptron_tagger to\n",
            "[nltk_data]     /root/nltk_data...\n",
            "[nltk_data]   Unzipping taggers/averaged_perceptron_tagger.zip.\n",
            "[nltk_data] Downloading package wordnet to /root/nltk_data...\n",
            "[nltk_data]   Unzipping corpora/wordnet.zip.\n",
            "[nltk_data] Downloading package stopwords to /root/nltk_data...\n",
            "[nltk_data]   Unzipping corpora/stopwords.zip.\n"
          ],
          "name": "stdout"
        }
      ]
    },
    {
      "cell_type": "markdown",
      "metadata": {
        "id": "uUbvVTcGju3T",
        "colab_type": "text"
      },
      "source": [
        "# Load and Prepare Data"
      ]
    },
    {
      "cell_type": "code",
      "metadata": {
        "trusted": true,
        "id": "eVbWWjfhju3T",
        "colab_type": "code",
        "colab": {
          "base_uri": "https://localhost:8080/",
          "height": 104
        },
        "outputId": "52c0a511-dc3d-4df6-a039-3b32769a8727"
      },
      "source": [
        "filepath = '/content/drive/My Drive/dataset/'\n",
        "df = pd.read_csv(filepath +'cord19_df2.csv')\n",
        "model = Word2Vec.load(filepath +'covid_w2v_model_2')\n",
        "all_texts = df.body_text"
      ],
      "execution_count": 5,
      "outputs": [
        {
          "output_type": "stream",
          "text": [
            "/usr/local/lib/python3.6/dist-packages/IPython/core/interactiveshell.py:2718: DtypeWarning: Columns (11) have mixed types.Specify dtype option on import or set low_memory=False.\n",
            "  interactivity=interactivity, compiler=compiler, result=result)\n",
            "/usr/local/lib/python3.6/dist-packages/smart_open/smart_open_lib.py:253: UserWarning: This function is deprecated, use smart_open.open instead. See the migration notes for details: https://github.com/RaRe-Technologies/smart_open/blob/master/README.rst#migrating-to-the-new-open-function\n",
            "  'See the migration notes for details: %s' % _MIGRATION_NOTES_URL\n"
          ],
          "name": "stderr"
        }
      ]
    },
    {
      "cell_type": "code",
      "metadata": {
        "id": "yF4QG-o2AbGq",
        "colab_type": "code",
        "colab": {}
      },
      "source": [
        "def sentences(recommended):\n",
        "  recommended['abstract'] = recommended['abstract'].astype(str) \n",
        "  recommended['body_text'] = recommended['body_text'].astype(str) \n",
        "  recommended['title'] = recommended['title'].astype(str) \n",
        "  recommended['complete_text'] = recommended[['title','abstract', 'body_text']].agg('. '.join, axis=1)\n",
        "  recommended['sentences'] = ''\n",
        "  recommended['token_clean_sentences'] = ''\n",
        "  recommended['vector_set'] = ''\n",
        "  recommended['vector_set'] = ''\n",
        "  recommended['prc_sents'] = ''\n",
        "  sentences_dataset = []\n",
        "  for i in range(0,len(recommended)):\n",
        "      paper_sentences = []\n",
        "      paper_sentences = recommended.complete_text.values[i].split('.')\n",
        "      sentences_dataset = sentences_dataset + paper_sentences\n",
        "      recommended.at[recommended.index[i], 'sentences'] = paper_sentences\n",
        "  #clean sentences which contain lower than 7 words \n",
        "  #tokenization\n",
        "  ind = -1\n",
        "  for paper_sentences in recommended.sentences.values:\n",
        "    tokenised_sents_set = []\n",
        "    clean_sent = []\n",
        "    ind = ind + 1\n",
        "    print(ind)\n",
        "    paper_id = recommended.index[ind]\n",
        "    for sentences in paper_sentences:\n",
        "      if bool(sentences):\n",
        "          sentences = sentences +\" \"+str(paper_id)\n",
        "          input_str = sentences\n",
        "          tokens = word_tokenize(input_str)\n",
        "          stop_words = set(stopwords.words('english'))\n",
        "          new_words = ['doi', 'preprint', 'copyright', 'peer', 'reviewed', 'org', 'https', 'et', 'al', 'author', 'figure', 'rights', 'reserved', 'permission', 'used', 'using', 'biorxiv', 'medrxiv', 'license', 'fig', 'fig.', 'al.', 'Elsevier', 'PMC', 'CZI','-PRON-']\n",
        "          stop_words = stop_words.union(new_words)\n",
        "          tokenised_sents = [i for i in tokens if not i in stop_words]\n",
        "          tokenised_sents = [i for i in tokenised_sents if len(i)>2]\n",
        "          tokenised_sents = [lemmatizer.lemmatize(w) for w in tokenised_sents]\n",
        "          if len(tokenised_sents) > 7:\n",
        "            tokenised_sents_set.append(tokenised_sents)\n",
        "            clean_sent.append(sentences)\n",
        "    recommended.at[recommended.index[ind], 'token_clean_sentences'] = tokenised_sents_set\n",
        "    recommended.at[recommended.index[ind], 'prc_sents'] = clean_sent\n",
        "  return(recommended , sentences_dataset)"
      ],
      "execution_count": 6,
      "outputs": []
    },
    {
      "cell_type": "code",
      "metadata": {
        "id": "RKPIoVePKUUo",
        "colab_type": "code",
        "colab": {}
      },
      "source": [
        "# medium model\n",
        "nlp = en_core_sci_lg.load(disable=[\"tagger\", \"parser\", \"ner\"])\n",
        "nlp.max_length = 2472506\n",
        "def spacy_tokenizer(sentence):\n",
        "    return [word.lemma_ for word in nlp(sentence) if not (word.like_num or word.is_stop or word.is_punct or word.is_space or len(word)==1)]\n",
        "# New stop words list \n",
        "customize_stop_words = [\n",
        "    'doi', 'preprint', 'copyright', 'peer', 'reviewed', 'org', 'https', 'et', 'al', 'author', 'figure', \n",
        "    'rights', 'reserved', 'permission', 'used', 'using', 'biorxiv', 'medrxiv', 'license', 'fig', 'fig.', 'al.', 'Elsevier', 'PMC', 'CZI',\n",
        "    '-PRON-'\n",
        "]\n",
        "\n",
        "# Mark them as stop words\n",
        "for w in customize_stop_words:\n",
        "    nlp.vocab[w].is_stop = True"
      ],
      "execution_count": 7,
      "outputs": []
    },
    {
      "cell_type": "markdown",
      "metadata": {
        "id": "GI7rx32Tju3Z",
        "colab_type": "text"
      },
      "source": [
        "We consider the text body, but the approach could also be applied to the abstracts only."
      ]
    },
    {
      "cell_type": "markdown",
      "metadata": {
        "id": "YN16OZ7eju3e",
        "colab_type": "text"
      },
      "source": [
        "# Latend Dirichlet Allocation"
      ]
    },
    {
      "cell_type": "markdown",
      "metadata": {
        "id": "J78Anl_xju3e",
        "colab_type": "text"
      },
      "source": [
        "For preprocessing we use [scispaCy](https://allenai.github.io/scispacy/), which is a Python package containing [spaCy](https://spacy.io) models for processing biomedical, scientific or clinical text."
      ]
    },
    {
      "cell_type": "code",
      "metadata": {
        "trusted": true,
        "id": "bthk3wF0ju3e",
        "colab_type": "code",
        "colab": {
          "base_uri": "https://localhost:8080/",
          "height": 294
        },
        "outputId": "d60c5aac-dbd5-4776-cf88-90c6dbf6e05e"
      },
      "source": [
        "\n",
        "\n",
        "if not (isfile(filepath + 'vectorizer50.csv') & isfile(filepath + 'data_vectorized50.csv')):\n",
        "    print('Files not there: generating')\n",
        "    vectorizer = CountVectorizer(tokenizer = spacy_tokenizer, max_features=800000)\n",
        "    data_vectorized = vectorizer.fit_transform(tqdm(all_texts))\n",
        "    joblib.dump(vectorizer, 'vectorizer50.csv')\n",
        "    joblib.dump(data_vectorized, 'data_vectorized50.csv')\n",
        "else:\n",
        "    vectorizer = joblib.load(filepath + 'vectorizer50.csv')\n",
        "    data_vectorized = joblib.load(filepath + 'data_vectorized50.csv')\n",
        "if not (isfile(filepath + 'lda50.csv')):\n",
        "  print('File not there: generating')\n",
        "  lda = LatentDirichletAllocation(n_components=50, random_state=0)\n",
        "  lda.fit(data_vectorized)\n",
        "  joblib.dump(lda, 'lda50.csv')\n",
        "else:\n",
        "  lda = joblib.load(filepath + 'lda50.csv') \n",
        "# most frequent words\n",
        "word_count = pd.DataFrame({'word': vectorizer.get_feature_names(), 'count': np.asarray(data_vectorized.sum(axis=0))[0]})\n",
        "\n",
        "word_count.sort_values('count', ascending=False).set_index('word')[:20].sort_values('count', ascending=True).plot(kind='barh')"
      ],
      "execution_count": 8,
      "outputs": [
        {
          "output_type": "execute_result",
          "data": {
            "text/plain": [
              "<matplotlib.axes._subplots.AxesSubplot at 0x7f4e3e87bb70>"
            ]
          },
          "metadata": {
            "tags": []
          },
          "execution_count": 8
        },
        {
          "output_type": "display_data",
          "data": {
            "image/png": "[encoded data removed]",
            "text/plain": [
              "<Figure size 432x288 with 1 Axes>"
            ]
          },
          "metadata": {
            "tags": []
          }
        }
      ]
    },
    {
      "cell_type": "markdown",
      "metadata": {
        "id": "gK5Vbjgbju31",
        "colab_type": "text"
      },
      "source": [
        "## Discovered Topics"
      ]
    },
    {
      "cell_type": "code",
      "metadata": {
        "_kg_hide-input": true,
        "trusted": true,
        "id": "CqfP_ePSju31",
        "colab_type": "code",
        "colab": {}
      },
      "source": [
        "def print_top_words(model, vectorizer, n_top_words):\n",
        "    feature_names = vectorizer.get_feature_names()\n",
        "    for topic_idx, topic in enumerate(model.components_):\n",
        "        message = \"\\nTopic #%d: \" % topic_idx\n",
        "        message += \" \".join([feature_names[i]\n",
        "                             for i in topic.argsort()[:-n_top_words - 1:-1]])\n",
        "        print(message)\n",
        "    print()\n",
        "if not (isfile(filepath + 'doc_topic_dist50.csv')):\n",
        "  print('File not there: generating')\n",
        "  doc_topic_dist = pd.DataFrame(lda.transform(data_vectorized))\n",
        "  doc_topic_dist.to_csv('doc_topic_dist50.csv', index=False)\n",
        "else:\n",
        "   doc_topic_dist = pd.read_csv(filepath + 'doc_topic_dist50.csv')  \n",
        "\n",
        "is_covid19_article = df.body_text.str.contains('COVID-19|SARS-CoV-2|2019-nCov|SARS Coronavirus 2|2019 Novel Coronavirus')\n",
        "\n",
        "def get_k_nearest_docs(doc_dist, k=5, lower=1950, upper=2020, only_covid19=False, get_dist=False):\n",
        "    '''\n",
        "    doc_dist: topic distribution (sums to 1) of one article\n",
        "    \n",
        "    Returns the index of the k nearest articles (as by Jensen–Shannon divergence in topic space). \n",
        "    '''\n",
        "    \n",
        "    relevant_time = df.publish_year.between(lower, upper)\n",
        "    \n",
        "    if only_covid19:\n",
        "        temp = doc_topic_dist[relevant_time & is_covid19_article]\n",
        "        \n",
        "    else:\n",
        "        temp = doc_topic_dist[relevant_time]\n",
        "         \n",
        "    distances = temp.apply(lambda x: jensenshannon(x, doc_dist), axis=1)\n",
        "    k_nearest = distances[distances != 0].nsmallest(n=k).index\n",
        "    \n",
        "    if get_dist:\n",
        "        k_distances = distances[distances != 0].nsmallest(n=k)\n",
        "        return k_nearest, k_distances\n",
        "    else:\n",
        "        return k_nearest\n",
        "def plot_article_dna(paper_id, width=20):\n",
        "    t = df[df.paper_id == paper_id].title.values[0]\n",
        "    doc_topic_dist[df.paper_id == paper_id].T.plot(kind='bar', legend=None, title=t, figsize=(width, 4))\n",
        "    plt.xlabel('Topic')\n",
        "\n",
        "def compare_dnas(paper_id, recommendation_id, width=20):\n",
        "    t = df[df.paper_id == recommendation_id].title.values[0]\n",
        "    temp = doc_topic_dist[df.paper_id == paper_id]\n",
        "    ymax = temp.max(axis=1).values[0]*1.25\n",
        "    temp = pd.concat([temp, doc_topic_dist[df.paper_id == recommendation_id]])\n",
        "    temp.T.plot(kind='bar', title=t, figsize=(width, 4), ylim= [0, ymax])\n",
        "    plt.xlabel('Topic')\n",
        "    plt.legend(['Selection', 'Recommendation'])\n",
        "\n",
        "# compare_dnas('90b5ecf991032f3918ad43b252e17d1171b4ea63', 'a137eb51461b4a4ed3980aa5b9cb2f2c1cf0292a')\n",
        "\n",
        "def dna_tabs(paper_ids):\n",
        "    k = len(paper_ids)\n",
        "    outs = [widgets.Output() for i in range(k)]\n",
        "\n",
        "    tab = widgets.Tab(children = outs)\n",
        "    tab_titles = ['Paper ' + str(i+1) for i in range(k)]\n",
        "    for i, t in enumerate(tab_titles):\n",
        "        tab.set_title(i, t)\n",
        "    display(tab)\n",
        "\n",
        "    for i, t in enumerate(tab_titles):\n",
        "        with outs[i]:\n",
        "            ax = plot_article_dna(paper_ids[i])\n",
        "            plt.show(ax)\n",
        "\n",
        "def compare_tabs(paper_id, recommendation_ids):\n",
        "    k = len(recommendation_ids)\n",
        "    outs = [widgets.Output() for i in range(k)]\n",
        "\n",
        "    tab = widgets.Tab(children = outs)\n",
        "    tab_titles = ['Paper ' + str(i+1) for i in range(k)]\n",
        "    for i, t in enumerate(tab_titles):\n",
        "        tab.set_title(i, t)\n",
        "    display(tab)\n",
        "\n",
        "    for i, t in enumerate(tab_titles):\n",
        "        with outs[i]:\n",
        "            ax = compare_dnas(paper_id, recommendation_ids[i])\n",
        "            plt.show(ax)"
      ],
      "execution_count": 9,
      "outputs": []
    },
    {
      "cell_type": "markdown",
      "metadata": {
        "id": "E9JqS8ocju4E",
        "colab_type": "text"
      },
      "source": [
        "# Search related papers and find related sentences"
      ]
    },
    {
      "cell_type": "markdown",
      "metadata": {
        "id": "t7GYpHGwju4E",
        "colab_type": "text"
      },
      "source": [
        "As a similarity measure we use 1 - Jensen-Shannon distance."
      ]
    },
    {
      "cell_type": "markdown",
      "metadata": {
        "id": "FxmgSPyzzELc",
        "colab_type": "text"
      },
      "source": [
        "## Sentence searching "
      ]
    },
    {
      "cell_type": "code",
      "metadata": {
        "id": "ZXMJEl6YWuqe",
        "colab_type": "code",
        "colab": {}
      },
      "source": [
        "def find_sentences(recommended):\n",
        "  recommended['abstract'] = recommended['abstract'].astype(str) \n",
        "  recommended['body_text'] = recommended['body_text'].astype(str) \n",
        "  recommended['title'] = recommended['title'].astype(str) \n",
        "  recommended['complete_text'] = recommended[['title','abstract', 'body_text']].agg('. '.join, axis=1)\n",
        "  recommended['sentences'] = ''\n",
        "  recommended['token_clean_sentences'] = ''\n",
        "  recommended['vector_set'] = ''\n",
        "  recommended['final_prc_sents'] = ''\n",
        "  recommended['prc_sents'] = ''\n",
        "  sentences_dataset = []\n",
        "  for i in range(0,len(recommended)):\n",
        "      paper_sentences = []\n",
        "      paper_sentences = recommended.complete_text.values[i].split('.')\n",
        "      sentences_dataset = sentences_dataset + paper_sentences\n",
        "      recommended.at[recommended.index[i], 'sentences'] = paper_sentences\n",
        "  #clean sentences which contain lower than 7 words \n",
        "  #tokenization\n",
        "  ind = -1\n",
        "  for paper_sentences in recommended.sentences.values:\n",
        "    tokenised_sents_set = []\n",
        "    clean_sent = []\n",
        "    ind = ind + 1\n",
        "    paper_id = recommended.index[ind]\n",
        "    for sentences in paper_sentences:\n",
        "      if bool(sentences):\n",
        "          sentences = sentences +\" \"+str(paper_id)\n",
        "          input_str = sentences\n",
        "          tokens = word_tokenize(input_str)\n",
        "          stop_words = set(stopwords.words('english'))\n",
        "          new_words = ['doi', 'preprint', 'copyright', 'peer', 'reviewed', 'org', 'https', 'et', 'al', 'author', 'figure', 'rights', 'reserved', 'permission', 'used', 'using', 'biorxiv', 'medrxiv', 'license', 'fig', 'fig.', 'al.', 'Elsevier', 'PMC', 'CZI','-PRON-']\n",
        "          stop_words = stop_words.union(new_words)\n",
        "          tokenised_sents = [i for i in tokens if not i in stop_words]\n",
        "          tokenised_sents = [i for i in tokenised_sents if len(i)>2]\n",
        "          tokenised_sents = [lemmatizer.lemmatize(w) for w in tokenised_sents]\n",
        "          if len(tokenised_sents) > 7:\n",
        "            tokenised_sents_set.append(tokenised_sents)\n",
        "            clean_sent.append(sentences)\n",
        "    recommended.at[recommended.index[ind], 'token_clean_sentences'] = tokenised_sents_set\n",
        "    recommended.at[recommended.index[ind], 'prc_sents'] = clean_sent\n",
        "    #vectorization\n",
        "    k = 0\n",
        "    sentences_vector_set= []\n",
        "    result_sentences = []\n",
        "    for sentences_token in tokenised_sents_set:\n",
        "      #print(k)\n",
        "      words_vec = []\n",
        "      for words in sentences_token:\n",
        "          with suppress(Exception):\n",
        "              words_vec.append(model[words])\n",
        "      if bool(words_vec):  \n",
        "        #print('**********************')   \n",
        "        sents_vector = np.mean(words_vec, axis = 0)\n",
        "        sentences_vector_set.append(sents_vector)\n",
        "        result_sentences.append(clean_sent[k])\n",
        "      #else:\n",
        "        #print(ind,k)\n",
        "      k = k+1      \n",
        "    recommended.at[recommended.index[ind], 'vector_set'] = sentences_vector_set\n",
        "    recommended.at[recommended.index[ind], 'final_prc_sents'] = result_sentences\n",
        "  return(recommended,sentences_dataset)    "
      ],
      "execution_count": 10,
      "outputs": []
    },
    {
      "cell_type": "markdown",
      "metadata": {
        "id": "7o1RArbRgqo1",
        "colab_type": "text"
      },
      "source": [
        "## Create a vector for query."
      ]
    },
    {
      "cell_type": "code",
      "metadata": {
        "id": "SDyR7he-iTYn",
        "colab_type": "code",
        "colab": {}
      },
      "source": [
        "def query_result(data, u_query , top_result = 5):\n",
        "  #user_queries = [\"Seasonality of transmission\"]\n",
        "  user_queries = u_query \n",
        "  tokenised_queries = []\n",
        "  for query in user_queries:\n",
        "      cleaned_user_query = []\n",
        "      input_str = query\n",
        "      stop_words = set(stopwords.words('english'))\n",
        "      tokens = word_tokenize(input_str)\n",
        "      tokenised_query = [i for i in tokens if not i in stop_words]\n",
        "      tokenised_query = [i for i in tokenised_query if len(i)>2]\n",
        "      tokenised_query = [lemmatizer.lemmatize(w) for w in tokenised_query]\n",
        "      cleaned_user_query.append(tokenised_query)\n",
        "      tokenised_queries.append(cleaned_user_query)\n",
        "  #vectorization\n",
        "  queries_vector_set = []\n",
        "  for i in range (len(tokenised_queries)):\n",
        "      words_set = tokenised_queries[i][0]\n",
        "      words_vec = []\n",
        "      for words in words_set:\n",
        "          with suppress(Exception):\n",
        "              words_vec.append(model[words])\n",
        "      query_vector = np.mean(words_vec, axis = 0)\n",
        "      queries_vector_set.append(query_vector)\n",
        "    # find similar\n",
        "  mostsimilar_sentence_set = []\n",
        "  vec1 = queries_vector_set[0].reshape(1, -1)\n",
        "  sorted_results = {}\n",
        "  result = {}\n",
        "  top_k  = []\n",
        "  i = 0\n",
        "  for vector in data.vector_set.values:\n",
        "    vec2 = vector.reshape(1, -1)\n",
        "    dis = cosine_similarity(vec1, vec2)\n",
        "    result[i] = dis\n",
        "    i = i + 1\n",
        "  sorted_results = {k: result[k] for k in sorted(result, key=result.get , reverse=True)}\n",
        "  top_k = list(sorted_results.keys())[0:top_result]\n",
        "  #print(top_k)\n",
        "  mostsimilar_sentence = []\n",
        "  for keys in top_k:\n",
        "      #print(keys, \"==\" , data.final_prc_sents.values[keys])\n",
        "      mostsimilar_sentence.append(data.final_prc_sents.values[keys])\n",
        "  mostsimilar_sentence_set.append(mostsimilar_sentence)\n",
        "\n",
        "  return(mostsimilar_sentence_set)"
      ],
      "execution_count": 11,
      "outputs": []
    },
    {
      "cell_type": "code",
      "metadata": {
        "trusted": true,
        "_kg_hide-input": true,
        "_kg_hide-output": true,
        "id": "hca9qN7iju4Q",
        "colab_type": "code",
        "colab": {}
      },
      "source": [
        "def related_papers():\n",
        "    '''\n",
        "    Creates a widget where you can select one of many papers about covid-19 and then displays related articles from the whole dataset.\n",
        "    '''\n",
        "    covid_papers = df[df.body_text.str.contains('COVID-19|SARS-CoV-2|2019-nCov|SARS Coronavirus 2|2019 Novel Coronavirus')][['paper_id', 'title']] # are there more names?\n",
        "    title_to_id = covid_papers.set_index('title')['paper_id'].to_dict()\n",
        "    \n",
        "    def main_function(bullet, k=5, year_range=[1950, 2020], only_covid19=False):\n",
        "        recommendation(title_to_id[bullet], k, lower=year_range[0], upper=year_range[1], only_covid19=only_covid19)\n",
        "    \n",
        "    yearW = widgets.IntRangeSlider(min=1950, max=2020, value=[2010, 2020], description='Year Range', \n",
        "                                   continuous_update=False, layout=Layout(width='40%'))\n",
        "    covidW = widgets.Checkbox(value=False,description='Only COVID-19-Papers',disabled=False, indent=False, layout=Layout(width='20%'))\n",
        "    kWidget = widgets.IntSlider(value=10, description='k', max=50, min=1, layout=Layout(width='20%'))\n",
        "\n",
        "    bulletW = widgets.Select(options=title_to_id.keys(), layout=Layout(width='90%', height='200px'), description='Title:')\n",
        "\n",
        "    widget = widgets.interactive(main_function, bullet=bulletW, k=kWidget, year_range=yearW, only_covid19=covidW)\n",
        "\n",
        "    controls = VBox([Box(children=[widget.children[:-1][1], widget.children[:-1][2], widget.children[:-1][3]], \n",
        "                         layout=Layout(justify_content='space-around')), widget.children[:-1][0]])\n",
        "    output = widget.children[-1]\n",
        "    display(VBox([controls, output]))"
      ],
      "execution_count": 12,
      "outputs": []
    },
    {
      "cell_type": "markdown",
      "metadata": {
        "id": "uBJU2Id-ju4S",
        "colab_type": "text"
      },
      "source": [
        "# Browse Tasks"
      ]
    },
    {
      "cell_type": "markdown",
      "metadata": {
        "id": "HS2nbCkXju4T",
        "colab_type": "text"
      },
      "source": [
        "We can now also map a task or bullet point into the topic space and find related articles that might help to solve the question at hand.\n",
        "\n",
        "Note: Some of the bullet points are very short - results might not be reliable in this case.  "
      ]
    },
    {
      "cell_type": "code",
      "metadata": {
        "id": "BGXlHaPAbMvi",
        "colab_type": "code",
        "colab": {}
      },
      "source": [
        "def relevant_articles(tasks, k=3, lower=1950, upper=2020, only_covid19=False ):\n",
        "    top_paper_as_relerelevant = k*20\n",
        "    top_sentences_number_for_primary_analyse = k*20\n",
        "    sentences_number = top_sentences_number_for_primary_analyse\n",
        "    if not sys.warnoptions:\n",
        "        warnings.simplefilter(\"ignore\")\n",
        "    tasks = [tasks] if type(tasks) is str else tasks \n",
        "    \n",
        "    tasks_vectorized = vectorizer.transform(tasks)\n",
        "    tasks_topic_dist = pd.DataFrame(lda.transform(tasks_vectorized))\n",
        "    Q_number = 1\n",
        "    for index, bullet in enumerate(tasks):\n",
        "        print (\"***************************************** Question %s *********************************************************\" %(Q_number))\n",
        "        print(\"\")\n",
        "        print(bullet)\n",
        "        print(\"\")\n",
        "        print (\"***************************************** Related papers *****************************************************\")\n",
        "        recommended = get_k_nearest_docs(tasks_topic_dist.iloc[index], top_paper_as_relerelevant , lower, upper, only_covid19)\n",
        "        recommended = df.iloc[recommended]\n",
        "        df_result , all_sentences = find_sentences(recommended)\n",
        "        result_sentences_set = []\n",
        "        result_vector_set    = []\n",
        "        for sentences_set in df_result.final_prc_sents.values:\n",
        "          result_sentences_set =  result_sentences_set + sentences_set \n",
        "        for vectors in df_result.vector_set.values:\n",
        "          result_vector_set =  result_vector_set + vectors\n",
        "        data = {}\n",
        "        data = {'final_prc_sents' : result_sentences_set , 'vector_set' : result_vector_set }\n",
        "        df_allresults_sentences_vectors = pd.DataFrame(data)\n",
        "        query = [bullet]\n",
        "        #step2 -------------search in top 50 realted paper to chose top k paper \n",
        "        primary_sentences_result = query_result(df_allresults_sentences_vectors, query , sentences_number)\n",
        "        result_paper_id = []\n",
        "        for result_sent  in primary_sentences_result[0]:\n",
        "          word_list = result_sent.split()\n",
        "          result_paper_id.append(word_list[-1])\n",
        "        top_k_result = Counter(result_paper_id).most_common(k)\n",
        "\n",
        "\n",
        "        \n",
        "        top_k_paper_id = {}\n",
        "        for indx in range(len(top_k_result) ):\n",
        "          key = list(list(top_k_result)[indx])[0]\n",
        "          value = list(list(top_k_result)[indx])[1]\n",
        "          top_k_paper_id.update({key:value})\n",
        "        #print(top_k_paper_id)\n",
        "        #{'29312': 11, '29961': 10, '29541': 9, '29558': 8, '29966': 7, '29659': 7}\n",
        "        top_k_values = list(top_k_paper_id.values())\n",
        "        \n",
        "        keys_sentences_dict = {}\n",
        "        for keys in top_k_paper_id.keys():\n",
        "          top_sent_in_paper = []\n",
        "          for sentences in primary_sentences_result[0]:\n",
        "            word_list = sentences.split()\n",
        "            if str(keys) in word_list[-1]:  \n",
        "               top_sent_in_paper.append(sentences)\n",
        "          keys_sentences_dict.update ({keys : top_sent_in_paper})\n",
        "        #print(keys_sentences_dict)\n",
        "        #{'29312': ['\\nEstimates of incubation period and serial interval from other studies are shown in Table S4  29312',..]}\n",
        "        #list(keys_sentences_dict.values())[0])\n",
        "\n",
        "\n",
        "\n",
        "        top_k_index = list(top_k_paper_id.keys())\n",
        "        df_list = []\n",
        "        for indx in top_k_index:\n",
        "          df_list.append(recommended.loc[[int(indx)]])\n",
        "        frames = df_list\n",
        "        result_paper_df = pd.concat(frames)\n",
        "        \n",
        "        \n",
        "        \n",
        "        ids = 0\n",
        "        for l, n in result_paper_df[['url','title']].values:\n",
        "          #h = '<br/>'.join(['<a href=\"' + l + '\" target=\"_blank\">'+ n + '</a>' for l, n in recommended[['url','title']].values])\n",
        "          h = '<br/>'.join(['<a href=\"' + str(l) + '\" target=\"_blank\">'+ str(n) + '</a>'])\n",
        "          display(HTML(h))\n",
        "          print(\"\")\n",
        "          print(\"================= >>> Related sentences :\")\n",
        "          i = 0\n",
        "          for most_similar_sentences in (list(keys_sentences_dict.values())[ids]):\n",
        "              if i < 10 :\n",
        "                print(most_similar_sentences)\n",
        "                print(\"\")\n",
        "                i = i + 1\n",
        "          ids = ids +1\n",
        "        Q_number = Q_number + 1 "
      ],
      "execution_count": 13,
      "outputs": []
    },
    {
      "cell_type": "code",
      "metadata": {
        "id": "x2cF5z40DCPl",
        "colab_type": "code",
        "colab": {}
      },
      "source": [
        "def relevant_articles_for_text():    \n",
        "    textW = widgets.Textarea(\n",
        "        value='',\n",
        "        placeholder='Type something',\n",
        "        description='',\n",
        "        disabled=False,\n",
        "        layout=Layout(width='90%', height='200px')\n",
        "    )\n",
        "\n",
        "    yearW = widgets.IntRangeSlider(min=1950, max=2020, value=[2010, 2020], description='Year Range', \n",
        "                               continuous_update=False, layout=Layout(width='40%'))\n",
        "    covidW = widgets.Checkbox(value=True,description='Only COVID-19-Papers',disabled=False, indent=False, layout=Layout(width='25%'))\n",
        "    kWidget = widgets.IntSlider(value=6, description='k', max=50, min=1, layout=Layout(width='25%'))\n",
        "\n",
        "    button = widgets.Button(description=\"Search\")\n",
        "\n",
        "    display(VBox([HBox([kWidget, yearW, covidW], layout=Layout(width='90%', justify_content='space-around')),\n",
        "        textW, button], layout=Layout(align_items='center')))\n",
        "\n",
        "    def on_button_clicked(b):\n",
        "        clear_output()\n",
        "        display(VBox([HBox([kWidget, yearW, covidW], layout=Layout(width='90%', justify_content='space-around')),\n",
        "            textW, button], layout=Layout(align_items='center')))        \n",
        "        relevant_articles(textW.value, kWidget.value, yearW.value[0], yearW.value[1], covidW.value)\n",
        "\n",
        "    button.on_click(on_button_clicked)"
      ],
      "execution_count": 14,
      "outputs": []
    },
    {
      "cell_type": "markdown",
      "metadata": {
        "id": "I0UgKHSCUP8T",
        "colab_type": "text"
      },
      "source": [
        "#Search box"
      ]
    },
    {
      "cell_type": "code",
      "metadata": {
        "id": "qjfpVBEuDDez",
        "colab_type": "code",
        "colab": {
          "base_uri": "https://localhost:8080/",
          "height": 285,
          "referenced_widgets": [
            "1ac945c7d496434f9b320c18083e556e",
            "5e56942d74ae48ab80cd8bbdfe4f8763",
            "f478808a120b4bdbbf513c3432d815dd",
            "d188b1a893cb46848f9f516737daad2f",
            "4fa2f12cf1eb409f9e214fe306ece3e4",
            "b618746ec06841fe84773d9d478b0ad4",
            "18926a3be5424fb789e40c748b91715d",
            "539bd339909844f2995376c91b7c8c14",
            "b488b61d56a144d199b48fadc5d3cfa0",
            "f2c47bd9d6bb49c9af93c7040043345b",
            "d2b5373bfc5b4dccbaff93d36943b119",
            "6b0b94a46406408cbf58c80ed3ec8ba6",
            "459e0eba97604a8bbdf77469761df939",
            "5a282bc7a4ec4a649f7ae75e29d4349e",
            "91e8adc0f346405499a28826616c08e2",
            "57985d30066f49dc8b3ec94bb6804871",
            "5764400f70ac47809b9b98d8db8dd0c2",
            "f224273a6e684bd4a2771e4dfc4667ec",
            "540294ba05ea4e80b8a68ebb1303fd77"
          ]
        },
        "outputId": "c7b4b7f8-5bd0-4ca3-94cd-c849db971e6b"
      },
      "source": [
        "pd.options.mode.chained_assignment = None \n",
        "warnings.filterwarnings(\"ignore\", category=tables.NaturalNameWarning)\n",
        "warnings.filterwarnings(\"ignore\", category=DeprecationWarning) \n",
        "\n",
        "relevant_articles_for_text()"
      ],
      "execution_count": 15,
      "outputs": [
        {
          "output_type": "display_data",
          "data": {
            "application/vnd.jupyter.widget-view+json": {
              "model_id": "1ac945c7d496434f9b320c18083e556e",
              "version_minor": 0,
              "version_major": 2
            },
            "text/plain": [
              "VBox(children=(HBox(children=(IntSlider(value=6, description='k', layout=Layout(width='25%'), max=50, min=1), …"
            ]
          },
          "metadata": {
            "tags": []
          }
        }
      ]
    }
  ]
}